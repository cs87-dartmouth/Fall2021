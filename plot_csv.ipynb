{
 "cells": [
  {
   "cell_type": "code",
   "execution_count": 1,
   "metadata": {},
   "outputs": [
    {
     "name": "stdout",
     "output_type": "stream",
     "text": [
      "Collecting package metadata (current_repodata.json): ...working... done\n",
      "Solving environment: ...working... done\n",
      "\n",
      "# All requested packages already installed.\n",
      "\n",
      "\n",
      "Note: you may need to restart the kernel to use updated packages.\n"
     ]
    }
   ],
   "source": [
    "conda install plotly"
   ]
  },
  {
   "cell_type": "code",
   "execution_count": 2,
   "metadata": {},
   "outputs": [
    {
     "data": {
      "application/vnd.jupyter.widget-view+json": {
       "model_id": "09735e0f6d044863b3255bf07b12d3ca",
       "version_major": 2,
       "version_minor": 0
      },
      "text/plain": [
       "Button(description='Select File', style=ButtonStyle())"
      ]
     },
     "metadata": {},
     "output_type": "display_data"
    }
   ],
   "source": [
    "from ipywidgets import Button\n",
    "from tkinter import Tk, filedialog\n",
    "from IPython.display import clear_output, display\n",
    "import pandas as pd\n",
    "import plotly.graph_objects as go\n",
    "import numpy as np\n",
    "\n",
    "filename=\"\"\n",
    "\n",
    "def select_files(b):\n",
    "    root = Tk()\n",
    "    root.withdraw() \n",
    "    root.call('wm', 'attributes', '.', '-topmost', True) \n",
    "    b.files = filedialog.askopenfilename(multiple=False,title = \"Select File\",filetypes = ((\"CSV files\", \".csv\"),)) \n",
    "    filename = b.files\n",
    "    if(filename!=\"\"):\n",
    "        clear_output()\n",
    "        print(\"%s chosen\"%filename) \n",
    "        data = pd.read_csv(filename)\n",
    "        print(data)\n",
    "        # tight layout\n",
    "        x, y, z = data['x'].tolist(),data['y'].tolist(),data['z'].tolist()\n",
    "        fig = go.Figure(data=[go.Scatter3d(x=x, y=y, z=z,mode='markers')])\n",
    "        fig.update_layout(margin=dict(l=0, r=0, b=0, t=0))        \n",
    "        fig.show()\n",
    "    else:\n",
    "        print(\"No file chosen\")\n",
    "    \n",
    "\n",
    "fileselect = Button(description=\"Select File\")\n",
    "fileselect.on_click(select_files)\n",
    "display(fileselect)\n",
    "\n",
    "\n"
   ]
  },
  {
   "cell_type": "code",
   "execution_count": null,
   "metadata": {},
   "outputs": [],
   "source": []
  }
 ],
 "metadata": {
  "kernelspec": {
   "display_name": "Python 3",
   "language": "python",
   "name": "python3"
  },
  "language_info": {
   "codemirror_mode": {
    "name": "ipython",
    "version": 3
   },
   "file_extension": ".py",
   "mimetype": "text/x-python",
   "name": "python",
   "nbconvert_exporter": "python",
   "pygments_lexer": "ipython3",
   "version": "3.8.5"
  }
 },
 "nbformat": 4,
 "nbformat_minor": 4
}
